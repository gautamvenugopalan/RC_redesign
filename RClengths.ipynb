{
 "cells": [
  {
   "cell_type": "markdown",
   "metadata": {},
   "source": [
    "### Python notebook walking through considerations for choosing the RC lengths, and folding mirror curvatures, for the 40m Ponderomotive Squeezing Experiment"
   ]
  },
  {
   "cell_type": "markdown",
   "metadata": {},
   "source": [
    "#### Resonance conditions:\n",
    " - $f_{1}$ = 11.066209 MHz (set by IMC length)\n",
    " - $f_{2}$ = 5  $\\times  f_{1}$ \n",
    " - Carrier, $f_{1}$, and $f_{2}$ sidebands have to be simultaneously resonant in the PRC. This can be satisfied by choosing $\\mathrm{L_{PRC}} =  (N+\\frac{1}{2})\\frac{c}{2f_1}$, $N \\in \\mathbb{Z} ^+$.\n",
    " - Carrier and $f_{2}$ sideband have to be simultaneously resonant (when the arms are resonant), while $f_{1}$ has to be anti-resonant in the SRC (for ** detuned ** setup). This can be satisfied by choosing $\\mathrm{L_{SRC}} =  (P+\\frac{1}{2})\\frac{c}{2f_2}$ but not $(Q+\\frac{1}{2})\\frac{c}{2f_1}$, $P, Q \\in \\mathbb{Z} ^+$.\n",
    " - The coupling of the $f_{2}$ sideband to the SRC is set by the Schnupp asymmetry. We'd like to choose the Schnupp asymmetry to maximize this coupling.\n",
    " - In all of the above, the output coupler for the PRC and the input coupler for the SRC is the compound mirror formed by BS and the two ~37.79m long arm cavities. In fact, $\\mathrm{L_{arm}}$ is tweaked to allow the simultaneous resonance of the $f_{1}$ and $f_{2}$ sidebands in the PRC.\n",
    " - The $f_{1}$ and $f_{2}$ sidebands have to be anti-resonant (or nearly so) in the arm cavities.\n",
    "\n",
    "Having established the resonance requirements, all that needs to be done is to choose lengths for the RCs such that the round-trip phase gain by the $\\mathrm{TEM_{00}}$ modes of the resonant fields is $2\\pi$, while that for the anti-resonant fields is $\\pi$.\n",
    "\n",
    "Note: Based on the resonance formulae above: \n",
    " - Shortest candidate PRC lengths are: 6.77m, 20.32m, 33.86m.\n",
    " - Shortest candidate SRC lengths are: 1.35m, 4.06m and 9.48m (6.77m is not a great option because then the f1 sideband will also be resonant).\n"
   ]
  },
  {
   "cell_type": "code",
   "execution_count": null,
   "metadata": {
    "ExecuteTime": {
     "end_time": "2018-07-31T04:31:00.293537Z",
     "start_time": "2018-07-31T04:31:00.288292Z"
    }
   },
   "outputs": [],
   "source": [
    "# Imports\n",
    "import numpy as np\n",
    "import matplotlib.pyplot as plt\n",
    "import scipy.constants as scc\n",
    "from matplotlib.ticker import FormatStrFormatter"
   ]
  },
  {
   "cell_type": "markdown",
   "metadata": {},
   "source": [
    "#### Choosing $\\mathrm{L_{arm}}$\n",
    " - This requires that the phase change on reflection from the FP arm cavity be 5 $\\times$ for the $f_{2}$ sideband as compared to the $f_{1}$ sideband.\n",
    " - If the * amplitude * reflectivity of the arm is $\\mathrm{r_{arm}}$, then $\\vec{\\mathrm{E}}_{\\mathrm{refl}} = \\mathrm{r_{arm}}\\vec{\\mathrm{E}}_{\\mathrm{inc}}$.\n",
    " - So the phase gained during the reflection process is the argument of the complex number $\\mathrm{r_{arm}} = \\frac{-r_{\\mathrm{ITM}} + r_{\\mathrm{ITM}}(t_{\\mathrm{ITM}}^2 + r_{\\mathrm{ITM}}^2)e^{i \\frac{\\omega}{\\nu_{\\mathrm{FSR}}}}}{1 - r_{\\mathrm{ITM}}r_{\\mathrm{ETM}}e^{i \\frac{\\omega}{\\nu_{\\mathrm{FSR}}}}}$"
   ]
  },
  {
   "cell_type": "code",
   "execution_count": null,
   "metadata": {
    "ExecuteTime": {
     "end_time": "2018-07-31T04:31:01.381514Z",
     "start_time": "2018-07-31T04:31:01.346103Z"
    }
   },
   "outputs": [],
   "source": [
    "# 40m IFO parameters (c.f. 40m wiki, core optics page)\n",
    "T_ITM = 1.384e-2\n",
    "T_ETM = 13.7e-6\n",
    "L_ITM = 20e-6 # losses\n",
    "L_ETM = 20e-6\n",
    "L_arm = 37.79 # meters\n",
    "r_ITM = np.sqrt(1 - T_ITM - L_ITM)\n",
    "t_ITM = np.sqrt(T_ITM)\n",
    "r_ETM = np.sqrt(1 - T_ETM - L_ETM)\n",
    "t_ETM = np.sqrt(T_ETM)\n",
    "f1 = 11.066209e6\n",
    "f2 = 5*f1\n",
    "\n",
    "def rArm(ti, te, ri, re, L, f):\n",
    "    '''\n",
    "    Computes reflectivity of a resonant FP cavity \n",
    "    for a sideband offset at frequency f.\n",
    "    '''\n",
    "    FSR = scc.c / (2*L) \n",
    "    return (-ri + re*(ti**2 + ri**2)*np.exp(1j*2*np.pi*f/FSR))/(1 - ri*re*np.exp(1j*2*np.pi*f/FSR))\n",
    "lengths = np.linspace(35,45,20000)\n",
    "rr_f1 = rArm(t_ITM,t_ETM, r_ITM, r_ETM, lengths, f1)\n",
    "rr_f2 = rArm(t_ITM,t_ETM, r_ITM, r_ETM, lengths, f2)\n",
    "ang_f1 = np.angle(-rr_f1, deg=True) # minus sign is for scaling the plot...\n",
    "ang_f2 = np.angle(-rr_f2, deg=True)\n",
    "argmin = np.argmin(np.abs(ang_f1 - ang_f2/5)),\n",
    "print('Argmin is {} corresponding to L= {} m, yielding dPhi = {} degrees'.format(argmin,\n",
    "     lengths[argmin], ang_f1[argmin] - ang_f2[argmin]/5))"
   ]
  },
  {
   "cell_type": "code",
   "execution_count": null,
   "metadata": {
    "ExecuteTime": {
     "end_time": "2018-07-31T04:31:03.152627Z",
     "start_time": "2018-07-31T04:31:02.659303Z"
    }
   },
   "outputs": [],
   "source": [
    "plt.style.use('gvELOG')\n",
    "fig, ax = plt.subplots(2,1,sharex=True,figsize=(12,8))\n",
    "ax[0].plot(lengths, ang_f1, label='$\\mathrm{f}_1$', color='xkcd:bright blue')\n",
    "ax[0].plot(lengths, ang_f2, label='$\\mathrm{f}_2$', color='xkcd:bright orange')\n",
    "ax[1].plot(lengths, ang_f1 - ang_f2/5, label='$\\mathrm{f}_1 - \\mathrm{f}_2/5$', \n",
    "           color='xkcd:bright green')\n",
    "ax[0].yaxis.set_major_formatter(FormatStrFormatter(\"%2.2f\"))\n",
    "ax[0].set_ylim([-1,1])\n",
    "ax[0].legend(loc='best')\n",
    "ax[1].set_xlabel('Arm cavity length [m]')\n",
    "ax[0].set_ylabel('Phase gain on reflection [deg]')\n",
    "ax[1].set_ylim([-0.5,0.5])\n",
    "ax[1].vlines(37.79, -0.5,0.5,linestyle='--',color='xkcd:charcoal')\n",
    "ax[1].set_ylabel('$\\Phi_{\\mathrm{f_1}} - \\Phi_{\\mathrm{f_2}}/5$ [deg]')\n",
    "fig.subplots_adjust(wspace=0.07, hspace=0.07, top=0.92)\n",
    "fig.suptitle('Phase gain on reflection (180 deg offset subtracted) for $\\mathrm{f}_{1}$ and $\\mathrm{f}_{2}$ sidebands')"
   ]
  },
  {
   "cell_type": "markdown",
   "metadata": {},
   "source": [
    "#### Simultaneous resonance of $f_{1}$ and $f_{2}$ sidebands in the PRC\n",
    " - Having chosen the macroscopic arm length of $\\mathrm{L_{arm}} = 37.795 \\mathrm{m}$, we can now tune the SRC and PRC lengths to satisfy various resonance conditions.\n",
    " - Using this arm length, we can calculate the reflectivity of the arm, which is one coupler in either recycling cavity.\n",
    " - Then we use the expression for circulating field in the FP cavity: $\\vec{\\mathrm{E}}_{\\mathrm{FP}} = \\vec{\\mathrm{E}}_{\\mathrm{in}}\\frac{t_{\\mathrm{PRM}}}{1-r_{\\mathrm{PRM}}r_{\\mathrm{arm}}e^{i \\frac{\\omega}{\\nu_{\\mathrm{FSR}}}}}$"
   ]
  },
  {
   "cell_type": "code",
   "execution_count": null,
   "metadata": {
    "ExecuteTime": {
     "end_time": "2018-07-31T04:38:41.153197Z",
     "start_time": "2018-07-31T04:38:41.140791Z"
    }
   },
   "outputs": [],
   "source": [
    "larm = 37.795\n",
    "r_f1 = rArm(t_ITM,t_ETM, r_ITM, r_ETM, larm, f1)\n",
    "r_f2 = rArm(t_ITM,t_ETM, r_ITM, r_ETM, larm, f2)\n",
    "r_carr = rArm(t_ITM,t_ETM, r_ITM, r_ETM, larm, 0.)\n",
    "T_PRM = 1e-2\n",
    "L_PRM = 50e-6\n",
    "t_PRM = np.sqrt(T_PRM)\n",
    "r_PRM = np.sqrt(1-T_PRM-L_PRM)\n",
    "def gPRC(tp, rp, rarm, L, f):\n",
    "    '''\n",
    "    Computes circulating power in the PRC, with compound\n",
    "    mirror formed by the arm cavity, for a sideband offset at frequency f.\n",
    "    '''\n",
    "    FSR = scc.c / (2*L) \n",
    "    return (tp/(1 - rp*rarm*np.exp(1j*2*np.pi*f/FSR)))\n",
    "lengths = np.linspace(6.7, 6.8, 1000)\n",
    "gPRC_f1 = gPRC(t_PRM, r_PRM, r_f1, lengths, f1)\n",
    "gPRC_f2 = gPRC(t_PRM, r_PRM, r_f2, lengths, f2)\n",
    "gPRC_carr = gPRC(t_PRM, r_PRM, r_carr, lengths, 0.)\n",
    "f1Max = lengths[np.argmax(np.abs(gPRC_f1)**2)]\n",
    "f2Max = lengths[np.argmax(np.abs(gPRC_f2)**2)]\n",
    "print('Maximum buildup for f1 sideband is for Lprc = {0:.4f}'.format(f1Max))\n",
    "print('Maximum buildup for f2 sideband is for Lprc = {0:.4f}'.format(f2Max))"
   ]
  },
  {
   "cell_type": "code",
   "execution_count": null,
   "metadata": {
    "ExecuteTime": {
     "end_time": "2018-07-31T04:22:07.388953Z",
     "start_time": "2018-07-31T04:22:06.925872Z"
    }
   },
   "outputs": [],
   "source": [
    "fig, ax = plt.subplots(1,1,figsize=(12,8))\n",
    "ax.plot(lengths, 20*np.log10(0.01*np.abs(gPRC_f1)**2), \n",
    "        label='$\\mathrm{f_1} ( \\gamma = 0.2)$',color='xkcd:bright blue')\n",
    "ax.plot(lengths, 20*np.log10(0.01*np.abs(gPRC_f2)**2), \n",
    "        label='$\\mathrm{f_2} ( \\gamma = 0.2)$',color='xkcd:bright orange')\n",
    "ax.plot(lengths, 20*np.log10(np.abs(gPRC_carr)**2), \n",
    "        label='$\\mathrm{f_0}$',color='xkcd:bright green')\n",
    "ax.vlines(6.753,-40,35,linestyle='--',color='xkcd:charcoal')\n",
    "ax.set_ylabel('Circulating power for 1W input [dB]')\n",
    "ax.set_xlabel('PRC macroscopic length [m]')\n",
    "ax.legend(loc='upper right')\n",
    "fig.suptitle('Setting PRC macroscopic length')\n",
    "fig.subplots_adjust(left=0.07, right=0.95, top=0.92)"
   ]
  },
  {
   "cell_type": "markdown",
   "metadata": {},
   "source": [
    "#### Setting the SRC macroscopic length\n",
    " - For PonderSqueeze, we need the carrier to be resonant in the SRC (when the arms are resonant for the carrier).\n",
    " - $f_{2}$ sideband has to be resonant.\n",
    " - $f_{1}$ sideband has to be non-resonant."
   ]
  },
  {
   "cell_type": "code",
   "execution_count": null,
   "metadata": {
    "ExecuteTime": {
     "end_time": "2018-07-31T04:50:03.200130Z",
     "start_time": "2018-07-31T04:50:02.778331Z"
    }
   },
   "outputs": [],
   "source": [
    "T_SRM = 17e-2\n",
    "L_SRM = 50e-6\n",
    "t_SRM = np.sqrt(T_SRM)\n",
    "r_SRM = np.sqrt(1-T_SRM-L_SRM)\n",
    "\n",
    "def gSRC(tarm, rarm, rs, L, f):\n",
    "    '''\n",
    "    Computes circulating power in the SRC, with compound\n",
    "    mirror formed by the arm cavity, for a sideband offset at frequency f.\n",
    "    '''\n",
    "    FSR = scc.c / (2*L) \n",
    "    return (tarm/(1 - rarm*rs*np.exp(1j*2*np.pi*f/FSR)))\n",
    "lengths = np.linspace(1, 5, 10000)\n",
    "gSRC_f1 = gSRC(np.sqrt(1 - r_f1**2 - L_ITM - L_ETM), r_f1, r_SRM, lengths, f1)\n",
    "gSRC_f2 = gSRC(np.sqrt(1 - r_f2**2 - L_ITM - L_ETM), r_f2, r_SRM, lengths, f2)\n",
    "gSRC_carr = gSRC(np.sqrt(1 - r_carr**2 - L_ITM - L_ETM), r_carr, r_SRM, lengths, 0)\n",
    "\n",
    "fig, ax = plt.subplots(1,1,figsize=(12,8))\n",
    "ax.plot(lengths, 20*np.log10(0.01*np.abs(gSRC_f1)**2), \n",
    "        label='$\\mathrm{f_1} ( \\gamma = 0.2)$',color='xkcd:bright blue')\n",
    "ax.plot(lengths, 20*np.log10(0.01*np.abs(gSRC_f2)**2), \n",
    "        label='$\\mathrm{f_2} ( \\gamma = 0.2)$',color='xkcd:bright orange')\n",
    "ax.plot(lengths, 20*np.log10(np.abs(gSRC_carr)**2), \n",
    "        label='$\\mathrm{f_0}$',color='xkcd:bright green')\n",
    "ax.set_ylabel('Circulating power for 1W input [dB]')\n",
    "ax.set_xlabel('SRC macroscopic length [m]')\n",
    "ax.yaxis.set_major_formatter(FormatStrFormatter('%2d'))\n",
    "ax.vlines(lengths[np.argmax(20*np.log10(np.abs(gSRC_f2)**2))],-100,20,linestyles='--',color='xkcd:charcoal')\n",
    "ax.legend(loc='upper right')\n",
    "fig.suptitle('Setting SRC macroscopic length')\n",
    "fig.subplots_adjust(left=0.07, right=0.95, top=0.92)\n",
    "print('Maximum buildup for f2 sideband happens for an SRC length of {0:.4f} m'.format(lengths[np.argmax(20*np.log10(np.abs(gSRC_f2)**2))]))"
   ]
  },
  {
   "cell_type": "markdown",
   "metadata": {},
   "source": [
    "#### Schnupp asymmetry\n",
    "Having set the resonance conditions of the PRC and SRC, we wish for the Michelson transmission for $f_2$ to be large, but for $f_1$ to be small. Basically, we would like to critically couple the $f_2$ sideband to the dark port. Because of the SRM, we cannot simply consider the transmissivity of the Michelson. The expression for the transmission becomes ($l_{\\mathrm{sch}} = l_\\mathrm{Y}-l_\\mathrm{X}$):\n",
    "$$t_{\\mathrm{DRMI}} = \\frac{-i r_A t_P t_S \\sin(2\\phi_-)}{1 + r_A^2r_Pr_S + r_A(r_P + r_S)\\cos(2\\phi_-)} = \\frac{-i r_A t_P t_S \\sin(\\frac{\\omega_m l_{\\mathrm{s}}}{c})}{1 + r_A^2r_Pr_S + r_A(r_P + r_S)\\cos(\\frac{\\omega_m l_{\\mathrm{s}}}{c})}$$\n",
    "\n",
    "For the more general case where we have arbitrary SRC tuning given by $\\phi_{\\mathrm{SRC}}$:\n",
    "$$t_{\\mathrm{DRMI}} = \\frac{e^{-i\\phi_{\\mathrm{SRC}}} r_A t_P t_S \\sin(2\\phi_-)}{1 - r_A^2r_Pr_S e^{-2i\\phi_{\\mathrm{SRC}}} - r_A(-r_P + r_S e^{-2i\\phi_{\\mathrm{SRC}}})\\cos(2\\phi_-)}.$$\n",
    "For the common cases:\n",
    "\n",
    "RSE: $\\phi_{\\mathrm{SRC}}(\\Omega) = \\pi/2 + \\Omega l_{\\mathrm{SRC}}/c$\n",
    "\n",
    "SR: $\\phi_{\\mathrm{SRC}}(\\Omega) = 0 + \\Omega l_{\\mathrm{SRC}}/c$"
   ]
  },
  {
   "cell_type": "code",
   "execution_count": null,
   "metadata": {
    "ExecuteTime": {
     "end_time": "2018-07-31T04:51:06.542704Z",
     "start_time": "2018-07-31T04:51:05.995672Z"
    }
   },
   "outputs": [],
   "source": [
    "def tDRMI(rA,tp,ts,rp,rs,ls,wm, phiC, lSRC):\n",
    "    phiSRC = phiC + wm*lSRC/scc.c\n",
    "    return (np.exp(-1j*(phiSRC))*rA*tp*ts*np.sin(wm*ls/scc.c)/(1 - \n",
    "                                        rA**2*rp*rs*np.exp(-2*1j*phiSRC) - \n",
    "                                        rA*(-rp+rs*np.exp(-2*1j*phiSRC))*np.cos(wm*ls/scc.c)))\n",
    "lls = 1e-2 * np.linspace(0.5,40,1000)\n",
    "tt_f2 = tDRMI(r_f2,np.sqrt(1e-2),np.sqrt(0.1),np.sqrt(1.-1e-2),np.sqrt(1.-0.1),lls,2*np.pi*f2,0,3.85)\n",
    "tt_f1 = tDRMI(r_f1,np.sqrt(1e-2),np.sqrt(0.1),np.sqrt(1.-1e-2),np.sqrt(1.-0.1),lls,2*np.pi*f1,0,3.85)\n",
    "\n",
    "fig, ax = plt.subplots(1,1,figsize=(12,8))\n",
    "ax.semilogy(100*(lls), 100*np.abs(tt_f2)**2, color='xkcd:bright blue', label='$f_2$')\n",
    "ax.semilogy(100*(lls), 100*np.abs(tt_f1)**2, color='xkcd:bright orange', label='$f_1$')\n",
    "ax.legend(loc='best')\n",
    "ax.set_ylabel('Power transmissivity [\\%]')\n",
    "ax.set_xlabel('Schnupp asymmetry [cm]')\n",
    "ax.yaxis.set_major_formatter(FormatStrFormatter('%.2f'))\n",
    "ax.vlines(100*lls[np.argmax(np.abs(tt_f2)**2)],0,100,linestyles='--',color='xkcd:charcoal')\n",
    "fig.suptitle('Setting Schnupp asymmetry')\n",
    "fig.subplots_adjust(left=0.07, right=0.95, top=0.92)\n",
    "maxT_f2 = np.max(100*np.abs(tt_f2)**2) \n",
    "print('Optimal Schnupp asymmetry is {0:.3f} cm for which f2 transmission to dark port is {1:.3f} %.'.format(100*lls[np.argmax(np.abs(tt_f2)**2)], \n",
    "                                                                                                  maxT_f2))\n",
    "print('Ratio of f1/f2 power buildup in the SRC is {0:.2E}'.format(np.abs(tt_f1[np.argmax(np.abs(tt_f2)**2)]/tt_f2[np.argmax(np.abs(tt_f2)**2)])**2))"
   ]
  },
  {
   "cell_type": "code",
   "execution_count": null,
   "metadata": {
    "ExecuteTime": {
     "end_time": "2018-07-31T04:58:29.012520Z",
     "start_time": "2018-07-31T04:58:28.645465Z"
    }
   },
   "outputs": [],
   "source": [
    "lSRCs = np.linspace(2.5,4.2,1000)\n",
    "xx, yy = np.meshgrid(lls,lSRCs)\n",
    "pSRC = tDRMI(r_f2,np.sqrt(1e-2),np.sqrt(0.17),np.sqrt(1.-1e-2),np.sqrt(1.-0.17),xx,2*np.pi*f2,0,yy)"
   ]
  },
  {
   "cell_type": "code",
   "execution_count": null,
   "metadata": {
    "ExecuteTime": {
     "end_time": "2018-07-31T04:58:31.740626Z",
     "start_time": "2018-07-31T04:58:29.015299Z"
    }
   },
   "outputs": [],
   "source": [
    "fig, ax = plt.subplots(1,1,figsize=(16,12))\n",
    "heatmap = ax.contourf(100*xx,yy,1e3*0.01*np.abs(pSRC)**2,100, cmap='inferno',\n",
    "                     vmin=0.9*np.min(1e3*0.01*np.abs(pSRC)**2), \n",
    "                      vmax=np.max(1e3*0.01*np.abs(pSRC)**2))\n",
    "levels = [2, 4, 6, 8]\n",
    "C1 = ax.contour(100*xx, yy, 1e3*0.01*np.abs(pSRC)**2,levels,colors='xkcd:periwinkle', linewidths=2)\n",
    "c1=fig.colorbar(heatmap, format='%3d', \n",
    "                pad=0.01)\n",
    "c1.set_label('Transmitted $f_2$ power through SRM assuming $\\gamma_{f_2}=0.2$ [mW]',rotation=270, labelpad=25, fontsize=20)\n",
    "ax.clabel(C1, colors = 'xkcd:periwinkle', fmt = '%1d', fontsize = 18)\n",
    "ax.set_xlabel('Schnupp asymmetry [cm]')\n",
    "ax.set_ylabel('SRC length [m]')\n",
    "fig.suptitle('$f_2$ transmission to dark port dependence on Schnupp asymmetry and SRC length')\n",
    "fig.subplots_adjust(left=0.07, right=0.95, top=0.95)"
   ]
  },
  {
   "cell_type": "markdown",
   "metadata": {},
   "source": [
    "#### Sensing response\n",
    "Next, we'd like to get some idea of what kind of sensing response we can expect for a given RC configuration. Assume we have Photodiodes at REFL11, REFL55 and AS55. Using the Adjacency Matrix, we can extract the coupling from any port to any other port. For small modulation depths, the sideband power is well approximated by $P_{\\mathrm{carrier}} \\approx J_0(\\gamma)P_0$, $P_{\\mathrm{SB}} \\approx J_{1}(\\gamma)P_0$. The RF photocurrent at any given port is given by:\n",
    "\n",
    "$$I_{\\mathrm{RF}} \\propto \\left (\\sum_{i=0}^{2} c_i(\\gamma) E_i \\right )^2 $$\n",
    "\n",
    "where the subscript indexes the carrier, $f_1$ and $f_2$ sidebands and $c_i(\\gamma)$ encodes the dependence on modulation depth $\\gamma$. For $3f$ demodulation, we need to explicitly include the higher order terms in the Jacobi-Anger expansion instead of using the small modulation-depth approximation.\n",
    "\n",
    "The actual error signal is demodulated down to DC (i.e. we wish to isolate the component of $I_{\\mathrm{RF}}$ that oscillates at $\\omega_0 \\pm \\Omega$). Following the approach of Mizuno and Yamaguchi (1999), in terms of the m-th element of the Adjacency Matrix $\\mathcal{A}_m (\\Omega, \\phi)$, the sensing response is given by:\n",
    "\n",
    "$$\\Re [H_m e^{-i\\theta}],$$\n",
    "$$\\Re \\left [ (\\mathcal{A}^*_m (\\omega_0 -\\Omega, \\phi) \\mathcal{A}_m (\\omega_0, \\phi) + \\mathcal{A}^*_m (\\omega_0, \\phi) \\mathcal{A}_m (\\omega_0 + \\Omega, \\phi))e^{-i \\theta} \\right ],$$\n",
    "\n",
    "where $\\phi$ denotes the tuning of a particular degree of freedom (while the others are assumed to be at their nominal operating points) and $\\theta$ denotes the demodulation phase (so basically we need to demodulate at $\\theta = 0, \\pi/2$ for I and Q respectively)."
   ]
  },
  {
   "cell_type": "markdown",
   "metadata": {},
   "source": [
    "#### HoMs\n",
    "For the recycling cavities, criteria motivating the the choice of RoC of the mirrors are:\n",
    " - Stability of the RCs (i.e. sufficient TMS).\n",
    " - Avoid HoMs resonating in the arms.\n",
    " - Curvature of all optics forming the (folded) cavities should be ~150 m, which is probably a number that manufacturers can meet without problems (since this corresponds to a sagitta of 4.83 $\\mu$m for a 3-inch optic, 2.15 $\\mu$m for a 2-inch optic). Of course the more important spec is what the tolerance is on the RoC (and equivalently the sag).\n",
    "\n",
    "The calculation is identical to that done for determining the RC lengths and Schnupp Asymmetry, the main difference being the addition of the Gouy phase for the higher order HG gaussian modes, and that the length tuning is microscopic rather than macroscopic."
   ]
  },
  {
   "cell_type": "code",
   "execution_count": null,
   "metadata": {},
   "outputs": [],
   "source": []
  }
 ],
 "metadata": {
  "kernelspec": {
   "display_name": "Python 3",
   "language": "python",
   "name": "python3"
  },
  "language_info": {
   "codemirror_mode": {
    "name": "ipython",
    "version": 3
   },
   "file_extension": ".py",
   "mimetype": "text/x-python",
   "name": "python",
   "nbconvert_exporter": "python",
   "pygments_lexer": "ipython3",
   "version": "3.6.5"
  },
  "toc": {
   "colors": {
    "hover_highlight": "#DAA520",
    "navigate_num": "#000000",
    "navigate_text": "#333333",
    "running_highlight": "#FF0000",
    "selected_highlight": "#FFD700",
    "sidebar_border": "#EEEEEE",
    "wrapper_background": "#FFFFFF"
   },
   "moveMenuLeft": true,
   "nav_menu": {
    "height": "42px",
    "width": "254px"
   },
   "navigate_menu": true,
   "number_sections": true,
   "sideBar": true,
   "threshold": 4,
   "toc_cell": false,
   "toc_section_display": "block",
   "toc_window_display": false,
   "widenNotebook": false
  }
 },
 "nbformat": 4,
 "nbformat_minor": 2
}
