{
 "cells": [
  {
   "cell_type": "markdown",
   "metadata": {},
   "source": [
    "### Python notebook walking through considerations for choosing the RC lengths, and folding mirror curvatures, for the 40m Ponderomotive Squeezing Experiment"
   ]
  },
  {
   "cell_type": "markdown",
   "metadata": {},
   "source": [
    "#### Resonance conditions:\n",
    " - $f_{1}$ = 11.066209 MHz (set by IMC length)\n",
    " - $f_{2}$ = 5  $\\times  f_{1}$ \n",
    " - Carrier, $f_{1}$, and $f_{2}$ sidebands have to be simultaneously resonant in the PRC.\n",
    " - Carrier and $f_{2}$ sidebands have to be simultaneously resonant (when the arms are resonant), while $f_{1}$ has to be non-resonant in the SRC (for ** detuned ** setup).\n",
    " - The coupling of the $f_{2}$ sideband to the SRC is set by the Schnupp asymmetry. We'd like to choose the Schnupp asymmetry to maximize this coupling (ideally we realize critical coupling from the PRC to the SRC).\n",
    " - In all of the above, the output coupler for the PRC and the input coupler for the SRC is the compound mirror formed by BS and the two ~37.79m long arm cavities. In fact, $\\mathrm{L_{arm}}$ is tweaked to allow the simultaneous resonance of the $f_{1}$ and $f_{2}$ sidebands in the PRC.\n",
    " - The $f_{1}$ and $f_{2}$ sidebands have to be anti-resonant (or nearly so) in the arm cavities.\n",
    "\n",
    "Having established the resonance requirements, all that needs to be done is to choose lengths for the RCs such that the round-trip phase gain by the $\\mathrm{TEM_{00}}$ modes of the resonant fields is $2\\pi$, while avoiding this condition for the non-resonant fields.\n",
    "\n",
    "Note: Based on the resonance formulae above: \n",
    " - Shortest candidate PRC lengths are: 6.77m, 20.32m, 33.86m.\n",
    " - Shortest candidate SRC lengths are: 1.35m, 4.06m and 9.48m (6.77m is not a great option because then the f1 sideband will also be resonant).\n"
   ]
  },
  {
   "cell_type": "code",
   "execution_count": null,
   "metadata": {
    "ExecuteTime": {
     "end_time": "2018-08-06T19:37:37.960335Z",
     "start_time": "2018-08-06T19:37:37.915329Z"
    },
    "collapsed": true
   },
   "outputs": [],
   "source": [
    "# Imports\n",
    "import numpy as np\n",
    "import matplotlib.pyplot as plt\n",
    "import scipy.constants as scc\n",
    "import matplotlib.colors as colors\n",
    "from matplotlib.ticker import FormatStrFormatter\n",
    "import matplotlib as mpl"
   ]
  },
  {
   "cell_type": "code",
   "execution_count": null,
   "metadata": {
    "ExecuteTime": {
     "end_time": "2018-08-06T19:37:38.407950Z",
     "start_time": "2018-08-06T19:37:38.397484Z"
    },
    "collapsed": true
   },
   "outputs": [],
   "source": [
    "# Set up some plotting stuff\n",
    "if 'gvELOG' in plt.style.available:\n",
    "    plt.style.use('gvELOG')\n",
    "else:\n",
    "    mpl.rcParams['lines.linewidth'] = 3\n",
    "    mpl.rcParams['lines.markersize'] = 10\n",
    "    mpl.rcParams['axes.titlesize'] = 18\n",
    "    mpl.rcParams['axes.labelsize'] = 16\n",
    "    mpl.rcParams['xtick.labelsize'] = 16\n",
    "    mpl.rcParams['ytick.labelsize'] = 16\n",
    "    mpl.rcParams['axes.formatter.limits'] = [-2,2]\n",
    "    mpl.rcParams['axes.grid'] = True\n",
    "    mpl.rcParams['grid.linestyle'] = '--'\n",
    "    mpl.rcParams['grid.linewidth'] = 0.7\n",
    "    mpl.rcParams['grid.alpha'] = 0.4\n",
    "    mpl.rcParams['text.usetex'] = True\n",
    "    mpl.rcParams['font.family'] = 'sans-serif'\n",
    "    mpl.rcParams['font.style'] = 'normal'\n",
    "    mpl.rcParams['font.weight'] = 'extra bold'\n",
    "    mpl.rcParams['font.size'] = 16"
   ]
  },
  {
   "cell_type": "markdown",
   "metadata": {},
   "source": [
    "#### Choosing $\\mathrm{L_{arm}}$\n",
    " - We require both $f_{1}$ and $f_{2}$ sidebands to be resonant inside the PRC, but nearly anti-resonant in the arm cavities.\n",
    " - One way to achieve this is if the phase change on reflection from the FP arm cavity is 5 $\\times$ for the $f_{2}$ sideband as compared to the $f_{1}$ sideband.\n",
    " - If the * amplitude * reflectivity of the arm is $\\mathrm{r_{arm}}$, then $\\vec{\\mathrm{E}}_{\\mathrm{refl}} = \\mathrm{r_{arm}}\\vec{\\mathrm{E}}_{\\mathrm{inc}}$.\n",
    " - So the phase gained during the reflection process is the argument of the complex number\n",
    " $$\\mathrm{r_{arm}} = \\frac{-r_{\\mathrm{ITM}} + r_{\\mathrm{ETM}}(t_{\\mathrm{ITM}}^2 + r_{\\mathrm{ITM}}^2)e^{-i \\frac{\\omega}{\\nu_{\\mathrm{FSR}}}}}{1 - r_{\\mathrm{ITM}}r_{\\mathrm{ETM}}e^{-i \\frac{\\omega}{\\nu_{\\mathrm{FSR}}}}}.$$\n",
    " - Note that $\\frac{\\omega}{\\nu_{\\mathrm{FSR}}} = \\frac{2 \\omega L}{c} = 2\\phi$ so we recover the more conventional expression of $\\mathrm{r_{arm}} = \\frac{-r_{\\mathrm{ITM}} + r_{\\mathrm{ETM}}(t_{\\mathrm{ITM}}^2 + r_{\\mathrm{ITM}}^2)e^{-2i \\phi}}{1 - r_{\\mathrm{ITM}}r_{\\mathrm{ETM}}e^{-2i \\phi}}$ where $\\phi = \\frac{\\omega L}{c}$ is the one-way propagation phase."
   ]
  },
  {
   "cell_type": "code",
   "execution_count": null,
   "metadata": {
    "ExecuteTime": {
     "end_time": "2018-08-06T19:37:43.817252Z",
     "start_time": "2018-08-06T19:37:43.789966Z"
    },
    "collapsed": false
   },
   "outputs": [],
   "source": [
    "# 40m IFO parameters (c.f. 40m wiki, core optics page)\n",
    "# Test masses\n",
    "T_ITM = 1.384e-2\n",
    "T_ETM = 13.7e-6\n",
    "L_ITM = 20e-6 # losses, ppm\n",
    "L_ETM = 20e-6\n",
    "L_arm = 37.79 # meters\n",
    "r_ITM = np.sqrt(1 - T_ITM - L_ITM)\n",
    "t_ITM = np.sqrt(T_ITM)\n",
    "r_ETM = np.sqrt(1 - T_ETM - L_ETM)\n",
    "t_ETM = np.sqrt(T_ETM)\n",
    "\n",
    "# Power Recycling\n",
    "T_PRM = 1e-2\n",
    "L_PRM = 50e-6\n",
    "t_PRM = np.sqrt(T_PRM)\n",
    "r_PRM = np.sqrt(1-T_PRM-L_PRM)\n",
    "\n",
    "# Signal Recycling\n",
    "T_SRM = 25e-2\n",
    "L_SRM = 50e-6\n",
    "t_SRM = np.sqrt(T_SRM)\n",
    "r_SRM = np.sqrt(1-T_SRM-L_SRM)\n",
    "\n",
    "# Modulation\n",
    "f1 = 11.066209e6\n",
    "f2 = 5*f1\n",
    "\n",
    "def rArm(ti, te, ri, re, L, f):\n",
    "    '''\n",
    "    Computes reflectivity of a resonant FP cavity \n",
    "    for a sideband offset at frequency f.\n",
    "    '''\n",
    "    FSR = scc.c / (2*L) \n",
    "    return (-ri + re*(ti**2 + ri**2)*np.exp(-1j*2*np.pi*f/FSR))/(1 - ri*re*np.exp(-1j*2*np.pi*f/FSR))\n",
    "lengths = np.linspace(35,45,20000)\n",
    "rr_f1 = rArm(t_ITM,t_ETM, r_ITM, r_ETM, lengths, f1)\n",
    "rr_f2 = rArm(t_ITM,t_ETM, r_ITM, r_ETM, lengths, f2)\n",
    "ang_f1 = np.angle(-rr_f1, deg=True) # minus sign is for scaling the plot...\n",
    "ang_f2 = np.angle(-rr_f2, deg=True)\n",
    "argmin = np.argmin(np.abs(ang_f1 - ang_f2/5)),\n",
    "print('Argmin is {} corresponding to L= {:.4f} m, yielding dPhi = {:.4f} degrees'.format(argmin,\n",
    "     lengths[argmin], ang_f1[argmin] - ang_f2[argmin]/5))"
   ]
  },
  {
   "cell_type": "code",
   "execution_count": null,
   "metadata": {
    "ExecuteTime": {
     "end_time": "2018-08-06T19:37:49.601142Z",
     "start_time": "2018-08-06T19:37:46.065416Z"
    },
    "collapsed": false
   },
   "outputs": [],
   "source": [
    "fig, ax = plt.subplots(2,1,sharex=True,figsize=(12,8))\n",
    "ax[0].plot(lengths, ang_f1, label='$\\mathrm{f}_1$', color='xkcd:bright blue')\n",
    "ax[0].plot(lengths, ang_f2, label='$\\mathrm{f}_2$', color='xkcd:bright orange')\n",
    "ax[1].plot(lengths, ang_f1 - ang_f2/5, label='$\\mathrm{f}_1 - \\mathrm{f}_2/5$', \n",
    "           color='xkcd:bright green')\n",
    "ax[0].yaxis.set_major_formatter(FormatStrFormatter(\"%2.2f\"))\n",
    "ax[0].set_ylim([-1,1])\n",
    "ax[0].legend(loc='best')\n",
    "ax[1].set_xlabel('Arm cavity length [m]')\n",
    "ax[0].set_ylabel('Phase gain on reflection [deg]')\n",
    "ax[1].set_ylim([-0.5,0.5])\n",
    "ax[1].vlines(37.79, -0.5,0.5,linestyle='--',color='xkcd:charcoal')\n",
    "ax[1].set_ylabel('$\\Phi_{\\mathrm{f_1}} - \\Phi_{\\mathrm{f_2}}/5$ [deg]')\n",
    "fig.subplots_adjust(wspace=0.07, hspace=0.07, top=0.92)\n",
    "fig.suptitle('Phase gain on reflection (180 deg offset subtracted) for $\\mathrm{f}_{1}$ and $\\mathrm{f}_{2}$ sidebands');"
   ]
  },
  {
   "cell_type": "markdown",
   "metadata": {},
   "source": [
    "#### Reflectivity of the arm cavity for $2f_{1}$ and $2f_{2}$ \n",
    " - The $3f$ locking scheme relies on the $2f_{1}$ and $2f_{2}$ components being reflected from the arms with reflectivity near unity [See K. Arai Thesis, 4.1.1].\n",
    " - The $2f$ fields aren't resonant inside the arm cavity either.\n",
    " - So in order for the amount of $2f$ light at the symmetric port to be more or less independent of the arm cavity microscopic length, we wish for the reflectivity of the arm cavity for the $2f$ component to be fairly independent of the latter."
   ]
  },
  {
   "cell_type": "code",
   "execution_count": null,
   "metadata": {
    "ExecuteTime": {
     "end_time": "2018-08-06T19:37:50.792093Z",
     "start_time": "2018-08-06T19:37:49.883199Z"
    },
    "collapsed": false
   },
   "outputs": [],
   "source": [
    "# Some practical lengths given 40m VEA constraints\n",
    "lengths = np.linspace(37.5,40,20000)\n",
    "rr_2f1 = rArm(t_ITM,t_ETM, r_ITM, r_ETM, lengths, 2*f1)\n",
    "rr_2f2 = rArm(t_ITM,t_ETM, r_ITM, r_ETM, lengths, 2*f2)\n",
    "fig, ax = plt.subplots(2,1,sharex=True, figsize=(12,8))\n",
    "ax[0].plot(lengths, np.real(rr_2f1), label='$2 \\mathrm{f}_1$', color='xkcd:bright blue', alpha=0.55)\n",
    "ax[1].plot(lengths, np.imag(rr_2f1), label='$2 \\mathrm{f}_1$', color='xkcd:bright blue', alpha=0.55)\n",
    "ax[0].plot(lengths, np.real(rr_2f2), label='$2 \\mathrm{f}_2$', color='xkcd:bright orange', alpha=0.55)\n",
    "ax[1].plot(lengths, np.imag(rr_2f2), label='$2 \\mathrm{f}_2$', color='xkcd:bright orange', alpha=0.55)\n",
    "ax[0].legend(loc='best')\n",
    "ax[1].set_xlabel('Arm cavity length [m]')\n",
    "ax[0].set_ylabel('Real part of $r_{\\mathrm{arm}}$')\n",
    "ax[1].set_ylabel('Imaginary part of $r_{\\mathrm{arm}}$')\n",
    "ax[0].vlines(37.795, -1,1,linestyle='--',color='xkcd:charcoal')\n",
    "ax[1].vlines(37.795, -1,1,linestyle='--',color='xkcd:charcoal')\n",
    "ax[0].set_ylim([-1.01,-0.95])\n",
    "ax[1].set_ylim([-0.05,0.05])\n",
    "fig.subplots_adjust(wspace=0.07, hspace=0.07, top=0.92)\n",
    "fig.suptitle('Arm cavity reflectivity for $2 \\mathrm{f}_{1}$ and $2 \\mathrm{f}_{2}$ fields');"
   ]
  },
  {
   "cell_type": "markdown",
   "metadata": {},
   "source": [
    "#### Dependence of amount of $2f$ power at REFL for various arm lengths, macroscopic detunings\n",
    "The detailed deriviation is found in the section on Schnupp Asymmetry, but the reflectivity of the full IFO is given by:\n",
    "$$r_{\\mathrm{DRFPMI}}^{\\mathrm{sym} \\rightarrow \\mathrm{sym}} = -r_p + \\frac{t_p^2 (|r_A| e^{-i(2\\phi_{\\mathrm{PRC}}-\\theta)}\\cos(2 \\phi_-) - |r_A|^2 r_S e^{-i(2\\phi_{\\mathrm{PRC}} + 2\\phi_{\\mathrm{SRC}} - 2\\theta)})}{1 + |r_A|^2r_Pr_S e^{-i(2\\phi_{\\mathrm{PRC}} + 2\\phi_{\\mathrm{SRC}}-2\\theta)} - |r_A|(r_P e^{-i(2\\phi_{\\mathrm{PRC}}-\\theta)} + r_S e^{-i(2\\phi_{\\mathrm{SRC}}-\\theta)})\\cos(2\\phi_-)},$$\n",
    "\n",
    "where the symbols have the following meaning:\n",
    "\n",
    "$$ L_{\\mathrm{PRC}} = L_{\\mathrm{PRM} \\rightarrow \\mathrm{BS}} + \\frac{l_{\\mathrm{BS} \\rightarrow \\mathrm{ITMY}} + l_{\\mathrm{BS} \\rightarrow \\mathrm{ITMX}}}{2}$$\n",
    "$$ L_{\\mathrm{SRC}} = L_{\\mathrm{SRM} \\rightarrow \\mathrm{BS}} + \\frac{l_{\\mathrm{BS} \\rightarrow \\mathrm{ITMY}} + l_{\\mathrm{BS} \\rightarrow \\mathrm{ITMX}}}{2}$$\n",
    "$$ l_{\\mathrm{schnupp}} = l_{\\mathrm{BS} \\rightarrow \\mathrm{ITMY}} - l_{\\mathrm{BS} \\rightarrow \\mathrm{ITMX}}$$\n",
    "$$ r_{\\mathrm{A}} = |r_{\\mathrm{A}}|e^{i \\theta}$$\n",
    "$$ \\phi_{\\mathrm{PRC}} = \\frac{\\omega L_{\\mathrm{PRC}}}{c} $$\n",
    "$$ \\phi_{\\mathrm{SRC}} = \\frac{\\omega L_{\\mathrm{SRC}}}{c} $$\n",
    "$$ \\phi_{-} = \\frac{\\omega l_{\\mathrm{schnupp}}}{2c} $$"
   ]
  },
  {
   "cell_type": "code",
   "execution_count": null,
   "metadata": {
    "ExecuteTime": {
     "end_time": "2018-08-06T19:22:13.519145Z",
     "start_time": "2018-08-06T19:22:12.983574Z"
    },
    "collapsed": true
   },
   "outputs": [],
   "source": [
    "def rArm_det(ti, te, ri, re, L, f, phiC):\n",
    "    '''\n",
    "    More general form of the earlier defined function,\n",
    "    such that it allows for the cavity to be detuned.\n",
    "    '''\n",
    "    phi = phiC + (2*np.pi*f*L/scc.c)\n",
    "    return (-ri + re*(ti**2 + ri**2)*np.exp(-2*1j*phi))/(1 - ri*re*np.exp(-2*1j*phi))\n",
    "\n",
    "def ifo_REFL(rp, rs, tp, ts, ti, te, ri, re, Larm, f, phiC, theta1, theta2):\n",
    "    # Calculate arm reflectivity\n",
    "    phi = phiC + (2*np.pi*f*Larm/scc.c)\n",
    "    rA = (-ri + re*(ti**2 + ri**2)*np.exp(-2*1j*phi))/(1 - ri*re*np.exp(-2*1j*phi))\n",
    "    mag = np.abs(rA)\n",
    "    ph = np.angle(rA)\n",
    "    # Set the PRC length to be resonant for both sidebands, i.e. 6.753m\n",
    "    Lprc = (theta1/2/np.pi)*scc.c/2/11.066209e6\n",
    "    phiPRC = 2*np.pi*f*Lprc/scc.c\n",
    "    # Set the SRC length such that f2 and carrier are resonant\n",
    "    Lsrc = (1 + theta2/2/np.pi)*scc.c/2/(5*11.066209e6)\n",
    "    phiSRC =  2*np.pi*f*Lsrc/scc.c\n",
    "    # Schnupp asy\n",
    "    phiSchnupp = (2.319e-2)*2*np.pi*f/2/scc.c\n",
    "    # Calculate the amplitude reflectivity\n",
    "    num = tp**2 * (mag*np.exp(-1j*(2*phiPRC - ph))*np.cos(phiSchnupp) - mag**2 * rs * np.exp(-1j*(2*phiPRC + 2*phiSRC - 2*ph)))\n",
    "    den = 1 + mag**2 * rp * rs * np.exp(-1j*(2*phiPRC + 2*phiSRC - 2*ph)) - mag*np.cos(phiSchnupp)*(rp*np.exp(-1j*(2*phiPRC-ph)) + rs*np.exp(-1j*(2*phiSRC-ph)))\n",
    "    return -rp + num/den\n",
    "\n",
    "lengths = np.linspace(37.5,40,500)\n",
    "detunings = np.linspace(-10./532, 10./532, 500)\n",
    "xx, yy = np.meshgrid(lengths, detunings)\n",
    "theta1 = np.angle(rArm_det(t_ITM,t_ETM, r_ITM, r_ETM, xx, f1, np.zeros((500,500))))\n",
    "theta2 = np.angle(rArm_det(t_ITM,t_ETM, r_ITM, r_ETM, xx, f2, np.zeros((500,500))))\n",
    "rr_f1 = ifo_REFL(r_PRM, r_SRM, t_PRM, t_SRM, t_ITM, t_ETM, r_ITM, r_ETM, lengths, 2*f1, detunings, theta1, theta2)\n",
    "rr_f2 = ifo_REFL(r_PRM, r_SRM, t_PRM, t_SRM, t_ITM, t_ETM, r_ITM, r_ETM, lengths, 2*f2, detunings, theta1, theta2)\n",
    "#rr_f1 = rArm_det(t_ITM,t_ETM, r_ITM, r_ETM, xx, f1, yy)\n",
    "#rr_f2 = rArm_det(t_ITM,t_ETM, r_ITM, r_ETM, xx, f2, yy)                              "
   ]
  },
  {
   "cell_type": "code",
   "execution_count": null,
   "metadata": {
    "ExecuteTime": {
     "end_time": "2018-08-06T19:22:55.962154Z",
     "start_time": "2018-08-06T19:22:13.525750Z"
    },
    "collapsed": false
   },
   "outputs": [],
   "source": [
    "# This cell takes ~30 seconds to execute for a 500x500 grid\n",
    "from scipy.special import jv\n",
    "Pref_2f1 = (jv(2,0.18)**2) * np.abs(rr_f1)**2\n",
    "Pref_2f2 = (jv(2,0.23)**2) * np.abs(rr_f2)**2\n",
    "\n",
    "fig, ax = plt.subplots(2,1,figsize=(16,12), sharex=True)\n",
    "heatmap1 = ax[0].pcolor(xx,532*yy,1e6*Pref_2f1, cmap='inferno')\n",
    "heatmap2 = ax[1].pcolor(xx,532*yy,1e6*Pref_2f2, cmap='inferno')\n",
    "c1=fig.colorbar(heatmap1, \n",
    "                pad=0.01, ax=ax[0], format='%2.1f')\n",
    "c2=fig.colorbar(heatmap2, \n",
    "                pad=0.01, ax=ax[1], format='%2.1f')\n",
    "c1.set_label('Reflected $2f_1$ power ($\\gamma = 0.18$) [$\\mu$ W]',rotation=270, labelpad=25, fontsize=20)\n",
    "c2.set_label('Reflected $2f_2$ power ($\\gamma = 0.22$) [$\\mu$ W]',rotation=270, labelpad=25, fontsize=20)\n",
    "ax[0].vlines(37.795, -10,10,linestyle='--',color='xkcd:periwinkle')\n",
    "ax[1].vlines(37.795, -10,10,linestyle='--',color='xkcd:periwinkle')\n",
    "ax[1].set_xlabel('Arm length [m]')\n",
    "ax[0].set_ylabel('CARM detuning [nm]')\n",
    "ax[1].set_ylabel('CARM detuning [nm]')\n",
    "fig.suptitle('$2f$ power reflectivity to symmetric port dependence on arm length and detuning')\n",
    "fig.subplots_adjust(left=0.07, right=0.95, top=0.95)"
   ]
  },
  {
   "cell_type": "markdown",
   "metadata": {},
   "source": [
    "#### Simultaneous resonance of $f_{1}$ and $f_{2}$ sidebands in the PRC\n",
    " - Having chosen the macroscopic arm length of $\\mathrm{L_{arm}} = 37.795 \\mathrm{m}$, we can now tune the SRC and PRC lengths to satisfy various resonance conditions.\n",
    " - Using this arm length, we can calculate the (complex) reflectivity of the arm ($r_{\\mathrm{arm}} = |r_{\\mathrm{arm}}|e^{i\\theta}$).\n",
    " - Then we use the expression for circulating field in the FP cavity:\n",
    " $$\\vec{\\mathrm{E}}_{\\mathrm{circ}} = \\vec{\\mathrm{E}}_{\\mathrm{in}}\\frac{t_{\\mathrm{PRM}}}{1-r_{\\mathrm{PRM}}r_{\\mathrm{arm}}e^{-i \\frac{\\omega}{\\nu_{\\mathrm{FSR}}}}},$$ and choose the macroscopic cavity length that maximizes the circulating power for the $f_{1}$ and $f_{2}$ components for the desired operating point of the carrier.\n",
    " - Note that $\\omega = \\omega_0$ for the carrier, and $\\omega = \\omega_0 \\pm \\Omega_i$ for the sideband fields.\n",
    " - The correction due to the complex arm reflectivity is that we choose $\\mathrm{L_{PRC}} =  (N+\\frac{\\theta_1}{2\\pi})\\frac{c}{2f_1}$, $N \\in \\mathbb{Z} ^+$ instead of $\\mathrm{L_{PRC}} =  (N+\\frac{1}{2})\\frac{c}{2f_1}$, $N \\in \\mathbb{Z} ^+$, where $\\theta_1$ is the argument of the complex arm reflectivity for the $f_1$ sideband. \n",
    " - For the 40m PonderSqueeze experiment, we propose k = 0 and $\\theta_1 \\approx 180.5^\\circ$ and $\\theta_2 = 182.5^\\circ$, such that $L_{\\mathrm{PRC}} = 6.753 \\mathrm{m}$."
   ]
  },
  {
   "cell_type": "code",
   "execution_count": null,
   "metadata": {
    "ExecuteTime": {
     "end_time": "2018-08-06T19:22:55.982085Z",
     "start_time": "2018-08-06T19:22:55.965499Z"
    },
    "collapsed": false
   },
   "outputs": [],
   "source": [
    "larm = 37.795\n",
    "r_f1 = rArm(t_ITM,t_ETM, r_ITM, r_ETM, larm, f1)\n",
    "r_f2 = rArm(t_ITM,t_ETM, r_ITM, r_ETM, larm, f2)\n",
    "r_carr = rArm(t_ITM,t_ETM, r_ITM, r_ETM, larm, 0.)\n",
    "\n",
    "def gPRC(tp, rp, rarm, L, f):\n",
    "    '''\n",
    "    Computes circulating power in the PRC, with compound\n",
    "    mirror formed by the arm cavity, for a sideband offset at frequency f.\n",
    "    '''\n",
    "    FSR = scc.c / (2*L) \n",
    "    return (tp/(1 - rp*rarm*np.exp(-1j*2*np.pi*f/FSR)))\n",
    "lengths = np.linspace(6.7, 6.8, 1000)\n",
    "gPRC_f1 = gPRC(t_PRM, r_PRM, r_f1, lengths, f1)\n",
    "gPRC_f2 = gPRC(t_PRM, r_PRM, r_f2, lengths, f2)\n",
    "gPRC_carr = gPRC(t_PRM, r_PRM, r_carr, lengths, 0.)\n",
    "f1Max = lengths[np.argmax(np.abs(gPRC_f1)**2)]\n",
    "f2Max = lengths[np.argmax(np.abs(gPRC_f2)**2)]\n",
    "print('Maximum buildup for f1 sideband is for Lprc = {0:.4f}'.format(f1Max))\n",
    "print('Maximum buildup for f2 sideband is for Lprc = {0:.4f}'.format(f2Max))"
   ]
  },
  {
   "cell_type": "code",
   "execution_count": null,
   "metadata": {
    "ExecuteTime": {
     "end_time": "2018-08-06T19:22:56.449268Z",
     "start_time": "2018-08-06T19:22:55.986144Z"
    },
    "collapsed": false
   },
   "outputs": [],
   "source": [
    "fig, ax = plt.subplots(1,1,figsize=(12,8))\n",
    "ax.plot(lengths, 10*np.log10(0.01*np.abs(gPRC_f1)**2), \n",
    "        label='$\\mathrm{f_1} ( \\gamma = 0.2)$',color='xkcd:bright blue')\n",
    "ax.plot(lengths, 10*np.log10(0.01*np.abs(gPRC_f2)**2), \n",
    "        label='$\\mathrm{f_2} ( \\gamma = 0.2)$',color='xkcd:bright orange')\n",
    "ax.plot(lengths, 10*np.log10(np.abs(gPRC_carr)**2), \n",
    "        label='$\\mathrm{f_0}$',color='xkcd:bright green')\n",
    "ax.vlines(6.753,-20,20,linestyle='--',color='xkcd:charcoal')\n",
    "ax.set_ylabel('Circulating power for 1W input [dB]')\n",
    "ax.set_xlabel('PRC macroscopic length [m]')\n",
    "ax.legend(loc='upper right')\n",
    "fig.suptitle('Setting PRC macroscopic length')\n",
    "fig.subplots_adjust(left=0.07, right=0.95, top=0.92)"
   ]
  },
  {
   "cell_type": "markdown",
   "metadata": {},
   "source": [
    "#### Setting the SRC macroscopic length\n",
    " - For PonderSqueeze, we need the carrier to be resonant in the SRC (when the arms are resonant for the carrier).\n",
    " - Actually, there is a small detuning for the carrier, of roughly $0.01^\\circ$ \n",
    " - $f_{2}$ sideband has to be resonant.\n",
    " - $f_{1}$ sideband has to be non-resonant."
   ]
  },
  {
   "cell_type": "code",
   "execution_count": null,
   "metadata": {
    "ExecuteTime": {
     "end_time": "2018-08-06T19:22:56.949603Z",
     "start_time": "2018-08-06T19:22:56.454004Z"
    },
    "collapsed": false
   },
   "outputs": [],
   "source": [
    "def gSRC(tarm, rarm, rs, L, f):\n",
    "    '''\n",
    "    Computes circulating power in the SRC, with compound\n",
    "    mirror formed by the arm cavity, for a sideband offset at frequency f.\n",
    "    '''\n",
    "    FSR = scc.c / (2*L) \n",
    "    return (tarm/(1 - rarm*rs*np.exp(-1j*(2*np.pi*f/FSR))))\n",
    "lengths = np.linspace(1, 5, 10000)\n",
    "gSRC_f1 = gSRC(np.sqrt(1 - r_f1**2 - L_ITM - L_ETM), r_f1, r_SRM, lengths, f1)\n",
    "gSRC_f2 = gSRC(np.sqrt(1 - r_f2**2 - L_ITM - L_ETM), r_f2, r_SRM, lengths, f2)\n",
    "gSRC_carr = gSRC(np.sqrt(1 - r_carr**2 - L_ITM - L_ETM), r_carr, r_SRM, lengths, 0)\n",
    "\n",
    "fig, ax = plt.subplots(1,1,figsize=(12,8))\n",
    "ax.plot(lengths, 20*np.log10(0.01*np.abs(gSRC_f1)**2), \n",
    "        label='$\\mathrm{f_1} ( \\gamma = 0.2)$',color='xkcd:bright blue')\n",
    "ax.plot(lengths, 20*np.log10(0.01*np.abs(gSRC_f2)**2), \n",
    "        label='$\\mathrm{f_2} ( \\gamma = 0.2)$',color='xkcd:bright orange')\n",
    "ax.plot(lengths, 20*np.log10(np.abs(gSRC_carr)**2), \n",
    "        label='$\\mathrm{f_0}$',color='xkcd:bright green')\n",
    "ax.set_ylabel('Circulating power for 1W input [dB]')\n",
    "ax.set_xlabel('SRC macroscopic length [m]')\n",
    "ax.yaxis.set_major_formatter(FormatStrFormatter('%2d'))\n",
    "ax.vlines(lengths[np.argmax(20*np.log10(np.abs(gSRC_f2)**2))],-100,20,linestyles='--',color='xkcd:charcoal')\n",
    "ax.legend(loc='upper right')\n",
    "fig.suptitle('Setting SRC macroscopic length')\n",
    "fig.subplots_adjust(left=0.07, right=0.95, top=0.92)\n",
    "print('Maximum buildup for f2 sideband happens for an SRC length of {0:.4f} m'.format(lengths[np.argmax(20*np.log10(np.abs(gSRC_f2)**2))]))"
   ]
  },
  {
   "cell_type": "markdown",
   "metadata": {},
   "source": [
    "#### Schnupp asymmetry\n",
    "Having set the resonance conditions of the PRC and SRC, we wish for the Michelson transmission for $f_2$ to be large, but for $f_1$ to be small. Basically, we would like to critically couple the $f_2$ sideband to the dark port. Because of the SRM, we cannot simply consider the transmissivity of the Michelson. Furthermore, the arm reflectivity is in general a complex number, which we can write as $r_{\\mathrm{arm}} = |r_{\\mathrm{arm}}|e^{i\\theta}$. The phase of this complex number can then be grouped with the PRC/SRC phase for the desired operating point. The expression for the transmission, for the more general case where we have arbitrary SRC tuning given by $\\phi_{\\mathrm{SRC}}$, is ($l_{\\mathrm{sch}} = l_\\mathrm{Y}-l_\\mathrm{X}$):\n",
    "\n",
    "\n",
    "$$t_{\\mathrm{DRFPMI}}^{\\mathrm{sym} \\rightarrow \\mathrm{as}} = \\frac{e^{-i(\\phi_{\\mathrm{PRC}} + \\phi_{\\mathrm{SRC}} - \\theta)} |r_A| t_P t_S \\sin(2\\phi_-)}{1 + |r_A|^2r_Pr_S e^{-i(2\\phi_{\\mathrm{SRC}}-\\theta)} - |r_A|(r_P + r_S e^{-i(2\\phi_{\\mathrm{SRC}}-\\theta)})\\cos(2\\phi_-)}.$$\n",
    "For the common cases:\n",
    "\n",
    "RSE: $\\phi_{\\mathrm{SRC}}(\\Omega) = \\pi/2 + \\Omega l_{\\mathrm{SRC}}/c$\n",
    "\n",
    "SR: $\\phi_{\\mathrm{SRC}}(\\Omega) = 0 + \\Omega l_{\\mathrm{SRC}}/c$"
   ]
  },
  {
   "cell_type": "code",
   "execution_count": null,
   "metadata": {
    "ExecuteTime": {
     "end_time": "2018-08-06T19:22:57.697354Z",
     "start_time": "2018-08-06T19:22:56.953041Z"
    },
    "collapsed": false
   },
   "outputs": [],
   "source": [
    "def tDRMI(rA,tp,ts,rp,rs,ls,wm, phiC, lSRC):\n",
    "    mag = np.abs(rA)\n",
    "    ph = np.angle(rA)\n",
    "    phiSRC = phiC + wm*lSRC/scc.c\n",
    "    return (np.exp(-1j*(phiSRC-ph))*tp*ts*np.abs(mag*np.sin(wm*ls/scc.c))/(1 + \n",
    "                                        mag**2*rp*rs*np.exp(-1j*(2*phiSRC - ph)) - \n",
    "                                        mag*(rp+rs*np.exp(-1j*(2*phiSRC - ph)))*np.cos(wm*ls/scc.c)))\n",
    "lls = 1e-2 * np.linspace(0.5,40,1000)\n",
    "tt_f2 = tDRMI(r_f2,np.sqrt(1e-2),np.sqrt(0.25),np.sqrt(1.-1e-2),np.sqrt(1.-0.25),lls,2*np.pi*f2,0,4.0443)\n",
    "tt_f1 = tDRMI(r_f1,np.sqrt(1e-2),np.sqrt(0.25),np.sqrt(1.-1e-2),np.sqrt(1.-0.25),lls,2*np.pi*f1,0,4.0443)\n",
    "\n",
    "fig, ax = plt.subplots(1,1,figsize=(12,8))\n",
    "ax.semilogy(100*(lls), 100*np.abs(tt_f2)**2, color='xkcd:bright blue', label='$f_2$')\n",
    "ax.semilogy(100*(lls), 100*np.abs(tt_f1)**2, color='xkcd:bright orange', label='$f_1$')\n",
    "ax.legend(loc='best')\n",
    "ax.set_ylabel('Power transmissivity [\\%]')\n",
    "ax.set_xlabel('Schnupp asymmetry [cm]')\n",
    "ax.yaxis.set_major_formatter(FormatStrFormatter('%.2f'))\n",
    "ax.vlines(100*lls[np.argmax(np.abs(tt_f2)**2)],0,100,linestyles='--',color='xkcd:charcoal')\n",
    "fig.suptitle('Setting Schnupp asymmetry')\n",
    "fig.subplots_adjust(left=0.07, right=0.95, top=0.92)\n",
    "maxT_f2 = np.max(100*np.abs(tt_f2)**2) \n",
    "print('Optimal Schnupp asymmetry is {0:.3f} cm for which f2 transmission to dark port is {1:.3f} %.'.format(100*lls[np.argmax(np.abs(tt_f2)**2)], \n",
    "                                                                                                  maxT_f2))\n",
    "print('Ratio of f1/f2 power buildup in the SRC is {0:.2E}'.format(np.abs(tt_f1[np.argmax(np.abs(tt_f2)**2)]/tt_f2[np.argmax(np.abs(tt_f2)**2)])**2))"
   ]
  },
  {
   "cell_type": "code",
   "execution_count": null,
   "metadata": {
    "ExecuteTime": {
     "end_time": "2018-08-06T19:22:58.142886Z",
     "start_time": "2018-08-06T19:22:57.701385Z"
    },
    "collapsed": true
   },
   "outputs": [],
   "source": [
    "lSRCs = np.linspace(2.5,4.2,1000)\n",
    "xx, yy = np.meshgrid(lls,lSRCs)\n",
    "pSRC = tDRMI(r_f2,np.sqrt(1e-2),np.sqrt(0.1),np.sqrt(1.-1e-2),np.sqrt(1.-0.1),xx,2*np.pi*f2,0,yy)"
   ]
  },
  {
   "cell_type": "code",
   "execution_count": null,
   "metadata": {
    "ExecuteTime": {
     "end_time": "2018-08-06T19:23:01.019715Z",
     "start_time": "2018-08-06T19:22:58.146549Z"
    },
    "collapsed": false
   },
   "outputs": [],
   "source": [
    "fig, ax = plt.subplots(1,1,figsize=(16,12))\n",
    "heatmap = ax.contourf(100*xx,yy,1e3*0.01*np.abs(pSRC)**2,100, cmap='inferno',\n",
    "                     vmin=0.9*np.min(1e3*0.01*np.abs(pSRC)**2), \n",
    "                      vmax=np.max(1e3*0.01*np.abs(pSRC)**2))\n",
    "levels = [2, 4, 6, 8]\n",
    "C1 = ax.contour(100*xx, yy, 1e3*0.01*np.abs(pSRC)**2,levels,colors='xkcd:periwinkle', linewidths=2)\n",
    "c1=fig.colorbar(heatmap, format='%3d', \n",
    "                pad=0.01)\n",
    "c1.set_label('Transmitted $f_2$ power through SRM assuming $\\gamma_{f_2}=0.2$ [mW]',rotation=270, labelpad=25, fontsize=20)\n",
    "ax.clabel(C1, colors = 'xkcd:periwinkle', fmt = '%1d', fontsize = 18)\n",
    "ax.set_xlabel('Schnupp asymmetry [cm]')\n",
    "ax.set_ylabel('SRC length [m]')\n",
    "fig.suptitle('$f_2$ transmission to dark port dependence on Schnupp asymmetry and SRC length')\n",
    "fig.subplots_adjust(left=0.07, right=0.95, top=0.95)"
   ]
  },
  {
   "cell_type": "markdown",
   "metadata": {},
   "source": [
    "#### Sensing response\n",
    "Next, we'd like to get some idea of what kind of sensing response we can expect for a given RC configuration. Assume we have Photodiodes at REFL11, REFL55 and AS55. Using the Adjacency Matrix, we can extract the coupling from any port to any other port. For small modulation depths, the sideband power is well approximated by $P_{\\mathrm{carrier}} \\approx J_0(\\gamma)P_0$, $P_{\\mathrm{SB}} \\approx J_{1}(\\gamma)P_0$. The RF photocurrent at any given port is given by:\n",
    "\n",
    "$$I_{\\mathrm{RF}} \\propto \\left (\\sum_{i=0}^{2} c_i(\\gamma) E_i \\right )^2 $$\n",
    "\n",
    "where the subscript indexes the carrier, $f_1$ and $f_2$ sidebands and $c_i(\\gamma)$ encodes the dependence on modulation depth $\\gamma$. For $3f$ demodulation, we need to explicitly include the higher order terms in the Jacobi-Anger expansion instead of using the small modulation-depth approximation.\n",
    "\n",
    "The actual error signal is demodulated down to DC (i.e. we wish to isolate the component of $I_{\\mathrm{RF}}$ that oscillates at $\\omega_0 \\pm \\Omega$). Following the approach of Mizuno and Yamaguchi (1999), in terms of the m-th element of the Adjacency Matrix $\\mathcal{A}_m (\\Omega, \\phi)$, the sensing response is given by:\n",
    "\n",
    "$$\\Re [H_m e^{-i\\theta}],$$\n",
    "$$\\Re \\left [ (\\mathcal{A}^*_m (\\omega_0 -\\Omega, \\phi) \\mathcal{A}_m (\\omega_0, \\phi) + \\mathcal{A}^*_m (\\omega_0, \\phi) \\mathcal{A}_m (\\omega_0 + \\Omega, \\phi))e^{-i \\theta} \\right ],$$\n",
    "\n",
    "where $\\phi$ denotes the tuning of a particular degree of freedom (while the others are assumed to be at their nominal operating points) and $\\theta$ denotes the demodulation phase (so basically we need to demodulate at $\\theta = 0, \\pi/2$ for I and Q respectively)."
   ]
  },
  {
   "cell_type": "markdown",
   "metadata": {},
   "source": [
    "#### HoMs\n",
    "For the recycling cavities, criteria motivating the the choice of RoC of the mirrors are:\n",
    " - Stability of the RCs (i.e. sufficient TMS).\n",
    " - Avoid HoMs resonating in the arms.\n",
    " - Curvature of all optics forming the (folded) cavities should be ~150 m, which is probably a number that manufacturers can meet without problems (since this corresponds to a sagitta of 4.83 $\\mu$m for a 3-inch optic, 2.15 $\\mu$m for a 2-inch optic). Of course the more important spec is what the tolerance is on the RoC (and equivalently the sag).\n",
    "\n",
    "The calculation is identical to that done for determining the RC lengths and Schnupp Asymmetry, the main difference being the addition of the Gouy phase for the higher order HG gaussian modes, and that the length tuning is microscopic rather than macroscopic."
   ]
  },
  {
   "cell_type": "code",
   "execution_count": null,
   "metadata": {
    "collapsed": true
   },
   "outputs": [],
   "source": []
  }
 ],
 "metadata": {
  "kernelspec": {
   "display_name": "Python 2",
   "language": "python",
   "name": "python2"
  },
  "language_info": {
   "codemirror_mode": {
    "name": "ipython",
    "version": 2
   },
   "file_extension": ".py",
   "mimetype": "text/x-python",
   "name": "python",
   "nbconvert_exporter": "python",
   "pygments_lexer": "ipython2",
   "version": "2.7.6"
  },
  "toc": {
   "colors": {
    "hover_highlight": "#DAA520",
    "navigate_num": "#000000",
    "navigate_text": "#333333",
    "running_highlight": "#FF0000",
    "selected_highlight": "#FFD700",
    "sidebar_border": "#EEEEEE",
    "wrapper_background": "#FFFFFF"
   },
   "moveMenuLeft": true,
   "nav_menu": {
    "height": "42px",
    "width": "254px"
   },
   "navigate_menu": true,
   "number_sections": true,
   "sideBar": true,
   "threshold": 4,
   "toc_cell": false,
   "toc_section_display": "block",
   "toc_window_display": false,
   "widenNotebook": false
  }
 },
 "nbformat": 4,
 "nbformat_minor": 2
}
